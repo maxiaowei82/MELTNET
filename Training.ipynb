{
 "cells": [
  {
   "cell_type": "code",
   "execution_count": 1,
   "metadata": {},
   "outputs": [],
   "source": [
    "#!/usr/bin/env python\n",
    "# coding: utf-8\n",
    "\n",
    "# # Feature Extraction Network  \n",
    "# Conv 50@5x5: Conv -> BN -> ReLU  \n",
    "# Max Pooling 2x2  \n",
    "# Conv 50@5x5  \n",
    "# Max Pooling 2x2  \n",
    "# FCN 1350  \n",
    "# FCN 160  \n",
    "# \n",
    "# Patch_CT : 17x17 stride 5  \n",
    "# Patch_PT : 17x17 stride 5  \n",
    "# 113 subjects  \n",
    "\n",
    "import tensorflow as tf\n",
    "tf.enable_eager_execution()\n",
    "\n",
    "import numpy as np\n",
    "from Extraction import PatchExtraction\n",
    "from Cluster import ClusterInitialization, ClusterMerging\n",
    "import AffinityCalculation\n",
    "import os\n",
    "import imp\n",
    "import pickle"
   ]
  },
  {
   "cell_type": "code",
   "execution_count": null,
   "metadata": {},
   "outputs": [],
   "source": [
    "# Find GPUs\n",
    "from tensorflow.python.client import device_lib\n",
    "\n",
    "device_lib.list_local_devices()"
   ]
  },
  {
   "cell_type": "code",
   "execution_count": 2,
   "metadata": {},
   "outputs": [],
   "source": [
    "mirrored_strategy = tf.distribute.MirroredStrategy()"
   ]
  },
  {
   "cell_type": "code",
   "execution_count": 3,
   "metadata": {},
   "outputs": [],
   "source": [
    "def patch_extraction(img):\n",
    "    patches = tf.extract_image_patches(img, ksizes=[1, 17, 17, 1],\n",
    "                                      strides=[1, 5, 5, 1], \n",
    "                                      rates=[1,1,1,1], padding='SAME')\n",
    "    patches = tf.reshape(patches, [-1, 17*17])\n",
    "    print(f\"Patch Extraction Completed: {patches.shape}\")\n",
    "    \n",
    "    return patches"
   ]
  },
  {
   "cell_type": "markdown",
   "metadata": {},
   "source": [
    "* Layers for network"
   ]
  },
  {
   "cell_type": "code",
   "execution_count": null,
   "metadata": {},
   "outputs": [],
   "source": []
  },
  {
   "cell_type": "code",
   "execution_count": 11,
   "metadata": {},
   "outputs": [],
   "source": [
    "# # Layers for Network\n",
    "\n",
    "def convnn_CT(x):\n",
    "    \"\"\"Convolution Neural Networks for Feature Extraction using CT Images\n",
    "    \n",
    "    Input\n",
    "    ___\n",
    "    x : (n_samples, 17, 17, 1)\n",
    "    \n",
    "    \"\"\"\n",
    "    with mirrored_strategy.scope():\n",
    "        with tf.name_scope(\"CT\"):\n",
    "            x = tf.reshape(x, [-1, 17, 17, 1])\n",
    "\n",
    "            # First Conv Layer: 17x17 to 15x15\n",
    "            W_conv1 = weight_variable([3, 3, 1, 50])\n",
    "            b_conv1 = bias_variable([50])\n",
    "            h_conv1 = tf.nn.relu(conv2d(x, W_conv1) + b_conv1)\n",
    "\n",
    "            # First Pooling layer: 15x15 to 8x8.\n",
    "            h_pool1 = max_pool_2x2(h_conv1)\n",
    "\n",
    "            # Second Conv Layer: 8x8 to 6x6\n",
    "            W_conv2 = weight_variable([3, 3, 50, 50])\n",
    "            b_conv2 = bias_variable([50])\n",
    "            h_conv2 = tf.nn.relu(conv2d(h_pool1, W_conv2) + b_conv2)\n",
    "\n",
    "            # Second pooling layer: 6x6 to 3x3\n",
    "            h_pool2 = max_pool_2x2(h_conv2)\n",
    "\n",
    "            # Flatten the layer\n",
    "            h_pool2_flat = tf.reshape(h_pool2, [-1, 3 * 3 * 50])\n",
    "\n",
    "    return h_pool2_flat\n",
    "\n",
    "\n",
    "def convnn_PT(x):\n",
    "    \"\"\"Convolution Neural Networks for Feature Extraction using PET Images\n",
    "    \n",
    "    Input\n",
    "    ___\n",
    "    x : (n_samples, 17, 17, 1)\n",
    "    \n",
    "    \"\"\"\n",
    "    with mirrored_strategy.scope():\n",
    "        with tf.name_scope(\"PT\"):\n",
    "            x = tf.reshape(x, [-1, 17, 17, 1])\n",
    "\n",
    "            # First Conv Layer: 5x5 to 3x3\n",
    "            W_conv1 = weight_variable([3, 3, 1, 50])\n",
    "            b_conv1 = bias_variable([50])\n",
    "            h_conv1 = tf.nn.relu(conv2d(x, W_conv1) + b_conv1)\n",
    "\n",
    "            # First Pooling layer: 15x15 to 8x8.\n",
    "            h_pool1 = max_pool_2x2(h_conv1)\n",
    "\n",
    "            # Second Conv Layer: 8x8 to 6x6\n",
    "            W_conv2 = weight_variable([3, 3, 50, 50])\n",
    "            b_conv2 = bias_variable([50])\n",
    "            h_conv2 = tf.nn.relu(conv2d(h_pool1, W_conv2) + b_conv2)\n",
    "\n",
    "            # Second pooling layer: 6x6 to 3x3\n",
    "            h_pool2 = max_pool_2x2(h_conv2)\n",
    "\n",
    "            # Flatten the layer\n",
    "            h_pool2_flat = tf.reshape(h_pool2, [-1, 3 * 3 * 50])\n",
    "\n",
    "    return h_pool2_flat\n",
    "\n",
    "\n",
    "def conv2d(x, W):\n",
    "    \"\"\"conv2d는 full stride를 가진 2d convolution layer를 반환(return)한다.\"\"\"\n",
    "    return tf.nn.conv2d(x, W, strides=[1, 1, 1, 1], padding='VALID')\n",
    "\n",
    "\n",
    "def max_pool_2x2(x):\n",
    "    \"\"\"max_pool_2x2는 특징들(feature map)을 2X만큼 downsample한다.\"\"\"\n",
    "    return tf.nn.max_pool(x, ksize=[1, 2, 2, 1],\n",
    "                          strides=[1, 2, 2, 1], padding='SAME')\n",
    "\n",
    "\n",
    "def weight_variable(shape):\n",
    "    \"\"\"weight_variable는 주어진 shape에 대한 weight variable을 생성한다.\"\"\"\n",
    "    initial = tf.truncated_normal(shape, stddev=0.1)\n",
    "    return tf.Variable(initial)\n",
    "\n",
    "\n",
    "def bias_variable(shape):\n",
    "    \"\"\"bias_variable 주어진 shape에 대한 bias variable을 생성한다.\"\"\"\n",
    "    initial = tf.constant(0.1, shape=shape)\n",
    "    return tf.Variable(initial)\n",
    "\n",
    "\n",
    "def fcn_dual(ct, pt):\n",
    "    \"\"\"Fully Connected Networks for Feature Extraction\n",
    "    \"\"\"\n",
    "    with mirrored_strategy.scope():\n",
    "        with tf.name_scope(\"FCN\"):\n",
    "        # Merge two inputs into one vector\n",
    "            x = tf.concat([ct, pt], 1)\n",
    "\n",
    "            # FCN 1\n",
    "            W_fc1 = weight_variable([3 * 3 * 50 * 2, 300])\n",
    "            b_fc1 = bias_variable([300])\n",
    "            h_fc1 = tf.nn.relu(tf.matmul(x, W_fc1) + b_fc1)\n",
    "\n",
    "            # FCN 2\n",
    "            W_fc2 = weight_variable([300, 150])\n",
    "            b_fc2 = bias_variable([150])\n",
    "            h_fc2 = tf.nn.relu(tf.matmul(h_fc1, W_fc2) + b_fc2)\n",
    "\n",
    "    return h_fc2"
   ]
  },
  {
   "cell_type": "code",
   "execution_count": 5,
   "metadata": {},
   "outputs": [],
   "source": [
    "# Training Networks\n",
    "# Extract Patches\n",
    "ind_CT = [[230, 380], [150, 370]]\n",
    "ind_PT = [[230, 380], [150, 370]]\n",
    "path = './Example'"
   ]
  },
  {
   "cell_type": "code",
   "execution_count": 14,
   "metadata": {
    "scrolled": false
   },
   "outputs": [
    {
     "name": "stdout",
     "output_type": "stream",
     "text": [
      "Patient Numnbers: 1\n",
      "img_ct.shape: (24, 150, 220, 1)\n",
      "img_pt.shape: (24, 150, 220, 1)\n",
      "Patch Extraction Completed: (31680, 289)\n",
      "Patch Extraction Completed: (31680, 289)\n",
      "(150,)\n",
      "(31680, 150)\n"
     ]
    }
   ],
   "source": [
    "dir_list = []\n",
    "for root, dirs, files in os.walk(path):\n",
    "    dir_list += [addr for addr in dirs if \"CT\" not in addr and \"PT\" not in addr]\n",
    "print(f'Patient Numnbers: {len(dir_list)}')\n",
    "\n",
    "feature = []\n",
    "\n",
    "for i in range(len(dir_list)):\n",
    "    \n",
    "### Patch shape -> batch * col_batch * row_batch * batchxbatch\n",
    "    path_single = path + '/' + dir_list[i]\n",
    "    img_CT, img_PT = PatchExtraction.stackImages(path_single, ind_CT, ind_PT)\n",
    "    # Initialize Features\n",
    "    # Reshape the dataset\n",
    "    # x_ct = tf.placeholder(tf.float32, [None, 150, 220, 1])\n",
    "    # x_pt = tf.placeholder(tf.float32, [None, 150, 220, 1])\n",
    "    \n",
    "    img_CT = tf.constant(img_CT, dtype=tf.float32)\n",
    "    img_PT = tf.constant(img_PT, dtype=tf.float32)\n",
    "    \n",
    "    patches_ct = patch_extraction(img_CT)\n",
    "    patches_pt = patch_extraction(img_PT)\n",
    "\n",
    "    y_ct_conv = convnn_CT(patches_ct)\n",
    "    y_pt_conv = convnn_PT(patches_pt)\n",
    "    \n",
    "    y_fcn = fcn_dual(y_ct_conv, y_pt_conv)\n",
    "    \n",
    "#     with tf.Session() as sess:\n",
    "#         sess.run(tf.global_variables_initializer())\n",
    "#         feature.append(sess.run(y_fcn, \n",
    "#                                 feed_dict={x_ct:img_CT, x_pt:img_PT}))\n",
    "\n",
    "feature = y_fcn\n",
    "print(feature[0].shape)\n",
    "stacked = np.vstack(feature)\n",
    "print(stacked.shape)"
   ]
  },
  {
   "cell_type": "markdown",
   "metadata": {},
   "source": [
    "Patch per slice : 30 * 44 = 1320  \n",
    "Patch per patient : 1320 * 24 = 31680"
   ]
  },
  {
   "cell_type": "code",
   "execution_count": 22,
   "metadata": {
    "scrolled": true
   },
   "outputs": [
    {
     "name": "stdout",
     "output_type": "stream",
     "text": [
      "Initialize Clusters...\n",
      "Elapsed time of cluster_initialize : 5.180022239685059\n",
      "Number of Initial Clusters: 5698\n",
      "Calculate weights for all samples...\n",
      "Total distance: 23131434.14\n",
      "sigma_square: 115.66\n",
      "Elapsed time of calculate_weights : 10.154451131820679\n",
      "Calculate affinity tables for all samples...\n",
      "Calculation Numbers: 16236451.0\n",
      "Affinity Table Initialization Completed!\n",
      "Elapsed time of aff_initialize_CPU : 477.5987136363983\n",
      "KN-N Table Initialization Completed!\n",
      "Cluster Initialization Completed!\n"
     ]
    }
   ],
   "source": [
    "# Initialize clusters\n",
    "# CPU: 564.55 secs >>> GPU\n",
    "# sample number : patch number\n",
    "imp.reload(ClusterInitialization)\n",
    "with mirrored_strategy.scope():\n",
    "    c_gpu = ClusterInitialization.Clusters(stacked[:10000], 100, K_s=20, K_a=5)"
   ]
  },
  {
   "cell_type": "code",
   "execution_count": null,
   "metadata": {},
   "outputs": [],
   "source": [
    "# Save cluster to binary file\n",
    "with open('test_191025.pickle', 'wb') as f:\n",
    "    pickle.dump(c_all, f)"
   ]
  },
  {
   "cell_type": "code",
   "execution_count": null,
   "metadata": {},
   "outputs": [],
   "source": [
    "# Load cluster\n",
    "with open('test.pickle', 'rb') as f:\n",
    "    c_all = pickle.load(f)"
   ]
  },
  {
   "cell_type": "markdown",
   "metadata": {},
   "source": [
    "Forward Pass  2\n",
    "aff_cluster_loop  \n",
    "Backward Pass  \n",
    "select batch\n",
    "calculate triplet loss\n",
    "backpropagation\n"
   ]
  },
  {
   "cell_type": "code",
   "execution_count": null,
   "metadata": {},
   "outputs": [],
   "source": [
    "# Loopa\n",
    "while not c_all.is_finished():\n",
    "    # Forward pass\n",
    "    c_all.aff_cluster_loop(eta=0.1)\n",
    "    # Backward pass\n",
    "    "
   ]
  },
  {
   "cell_type": "code",
   "execution_count": null,
   "metadata": {},
   "outputs": [],
   "source": []
  }
 ],
 "metadata": {
  "kernelspec": {
   "display_name": "Python 3",
   "language": "python",
   "name": "python3"
  },
  "language_info": {
   "codemirror_mode": {
    "name": "ipython",
    "version": 3
   },
   "file_extension": ".py",
   "mimetype": "text/x-python",
   "name": "python",
   "nbconvert_exporter": "python",
   "pygments_lexer": "ipython3",
   "version": "3.6.8"
  }
 },
 "nbformat": 4,
 "nbformat_minor": 2
}
