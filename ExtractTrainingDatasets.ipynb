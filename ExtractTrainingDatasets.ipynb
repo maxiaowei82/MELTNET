{
 "cells": [
  {
   "cell_type": "markdown",
   "metadata": {},
   "source": [
    "# Make Label Image\n",
    "1. Filter Annotation by malignancy\n",
    "2. Make empty image which has same size with volume\n",
    "3. Load contour in annotations\n",
    "4. Save contour image for whole CT image size\n",
    "\n",
    "Use Pylidc, OpenCV"
   ]
  },
  {
   "cell_type": "markdown",
   "metadata": {},
   "source": [
    "# Extract Training Dataset\n",
    "\n",
    "1. Filter Annotation by malignancy\n",
    "2. Load all dicom image with annotation\n",
    "3. Find slices which has nodules\n",
    "4. Save slices which has nodules\n",
    "\n",
    "Use Encapsulation <br>\n",
    "Normalization Using OpenCV"
   ]
  },
  {
   "cell_type": "markdown",
   "metadata": {},
   "source": [
    "## Error Report\n",
    "1. Reversed Slice Order\n",
    "2. Image Number Mismatch <br>\n",
    "    Label : contour / j =  range(ann.contour_slice_indices.shape[0]) <br> \n",
    "    Training : scan / j = ann.contour_slice_indices <br>\n",
    "    slice indices does not have continuity from nodule #206"
   ]
  },
  {
   "cell_type": "code",
   "execution_count": 3,
   "metadata": {},
   "outputs": [],
   "source": [
    "import pylidc as pl\n",
    "import numpy as np\n",
    "import matplotlib.pyplot as plt\n",
    "import cv2\n",
    "\n",
    "# For contour to boolean mask function\n",
    "import matplotlib.path as mplpath"
   ]
  },
  {
   "cell_type": "code",
   "execution_count": 27,
   "metadata": {},
   "outputs": [],
   "source": [
    "class AnnAll:\n",
    "    \"\"\"\n",
    "    Do something for nodules, annotations in anns objects.\n",
    "    \n",
    "    Attributes\n",
    "    ==========\n",
    "    \n",
    "    annotation_numbers : int\n",
    "        Number of annotations in anns objects.\n",
    "    \"\"\"\n",
    "    \n",
    "    def __init__(self, anns):\n",
    "        self.anns = anns\n",
    "        self.nodule_num = anns.count()\n",
    "        print(\"Total Nodule numbers :\", self.nodule_num)\n",
    "    \n",
    "    def extractCT(self, addr_label, addr_train, num_iter=np.inf):\n",
    "        \"\"\"\n",
    "        extract CT Images which has nodules\n",
    "        Make Label Images which has nodules\n",
    "        \"\"\"\n",
    "        for i, ann in enumerate(self.anns):\n",
    "            if not i < num_iter:\n",
    "                break\n",
    "                \n",
    "            # Load image for each annotation\n",
    "            image_all = ann.scan.load_all_dicom_images(verbose=False)\n",
    "            \n",
    "            # Make empty image which has same size with the CT image\n",
    "            xx, yy = np.indices(image_all[0].pixel_array.shape)\n",
    "\n",
    "            # Make the grid for check points included in the region\n",
    "            grid = np.c_[xx.flatten(), yy.flatten()]\n",
    "            \n",
    "            for j in range(len(ann.contour_slice_indices)):\n",
    "                index_max = ann.contour_slice_indices[-1]\n",
    "                # Extract Label Image\n",
    "                con = ann.contours[j]\n",
    "                \n",
    "                # Extract nodule points for 2-d array\n",
    "                C = con.to_matrix(include_k=False)\n",
    "\n",
    "                # Make the path with the nodule points\n",
    "                path = mplpath.Path(C, closed=True)\n",
    "                #np.c_ : stack 1-d arrays as columns into a 2-d array\n",
    "\n",
    "                # Check points included in the nodule region\n",
    "                contains_pts = path.contains_points(grid)\n",
    "\n",
    "                # Reshape the image for 2-d\n",
    "                contains_pts = contains_pts.reshape(512,512)\n",
    "\n",
    "                # Convert boolean to uint8 image\n",
    "                contains_pts_img = (contains_pts * 255).astype('uint8')\n",
    "\n",
    "                # Save Label Image\n",
    "                cv2.imwrite(addr_label + str(i) + '_' + str(j) + \".png\", \n",
    "                            contains_pts_img)\n",
    "                \n",
    "                # Extract CT Image for label index        \n",
    "                # Find CT image position which has nodule\n",
    "                k = con.image_k_position\n",
    "                \n",
    "                # Load image in numpy array\n",
    "                image = image_all[k].pixel_array\n",
    "                \n",
    "                # Normalize the image\n",
    "                norm_image = cv2.normalize(image, None, 255, 0, cv2.NORM_MINMAX, cv2.CV_8U)\n",
    "\n",
    "                # Save Image\n",
    "                cv2.imwrite(addr_train + str(i) + '_' + str(j) + \".png\", \n",
    "                            norm_image)\n",
    "                \n",
    "\n",
    "            # Print progress for 50 images each\n",
    "            if i%50 == 49:\n",
    "                print(\"%d / %d Image Extraction Completed\" % (i+1, self.nodule_num))\n",
    "                \n",
    "        print(\"Training Dataset Extraction Completed\")"
   ]
  },
  {
   "cell_type": "code",
   "execution_count": null,
   "metadata": {},
   "outputs": [
    {
     "name": "stdout",
     "output_type": "stream",
     "text": [
      "Total Nodule numbers : 1653\n",
      "50 / 1653 Image Extraction Completed\n",
      "100 / 1653 Image Extraction Completed\n",
      "150 / 1653 Image Extraction Completed\n",
      "200 / 1653 Image Extraction Completed\n",
      "250 / 1653 Image Extraction Completed\n"
     ]
    }
   ],
   "source": [
    "nodule = pl.query(pl.Annotation) \\\n",
    "    .filter(pl.Annotation.malignancy > 3) # malignancy > 3 : nodule (1653 nodules, 15221 images)\n",
    "\n",
    "addr_label = \"./Labels/nodules/Image\" \n",
    "addr_train = \"./Training/nodules/Image\"\n",
    "\n",
    "all1 = AnnAll(nodule)\n",
    "all1.extractCT(addr_label, addr_train)\n",
    "\n",
    "nonnodule = pl.query(pl.Annotation) \\\n",
    "    .filter(pl.Annotation.malignancy < 3) # malignancy < 3 : non-nodule (2600 nodules, 13115 images)\n",
    "\n",
    "addr_label = \"./Labels/non-nodules/Image\" \n",
    "addr_train = \"./Training/non-nodules/Image\"\n",
    "\n",
    "all2 = AnnAll(nonnodule)\n",
    "all2.extractCT(addr_label, addr_train)"
   ]
  },
  {
   "cell_type": "code",
   "execution_count": 21,
   "metadata": {},
   "outputs": [
    {
     "data": {
      "text/plain": [
       "array([564, 565, 566, 568, 569, 570, 571, 572, 573, 574, 575, 576, 577,\n",
       "       578, 579, 580, 581, 582, 583, 584, 585, 586, 587, 588, 589, 590,\n",
       "       591, 592, 593, 594, 595, 596, 597, 598], dtype=int64)"
      ]
     },
     "execution_count": 21,
     "metadata": {},
     "output_type": "execute_result"
    }
   ],
   "source": [
    "nodule[206].contour_slice_indices"
   ]
  },
  {
   "cell_type": "code",
   "execution_count": 22,
   "metadata": {},
   "outputs": [
    {
     "data": {
      "text/plain": [
       "598"
      ]
     },
     "execution_count": 22,
     "metadata": {},
     "output_type": "execute_result"
    }
   ],
   "source": [
    "nodule[206].contours[0].image_k_position"
   ]
  },
  {
   "cell_type": "code",
   "execution_count": 23,
   "metadata": {},
   "outputs": [
    {
     "data": {
      "text/plain": [
       "34"
      ]
     },
     "execution_count": 23,
     "metadata": {},
     "output_type": "execute_result"
    }
   ],
   "source": [
    "len(nodule[206].contours)"
   ]
  },
  {
   "cell_type": "code",
   "execution_count": 24,
   "metadata": {},
   "outputs": [
    {
     "data": {
      "text/plain": [
       "598"
      ]
     },
     "execution_count": 24,
     "metadata": {},
     "output_type": "execute_result"
    }
   ],
   "source": [
    "nodule[206].contour_slice_indices[-1]"
   ]
  },
  {
   "cell_type": "code",
   "execution_count": 26,
   "metadata": {},
   "outputs": [
    {
     "name": "stdout",
     "output_type": "stream",
     "text": [
      "[660 661 662 663 664 665 666]\n"
     ]
    },
    {
     "data": {
      "text/plain": [
       "7"
      ]
     },
     "execution_count": 26,
     "metadata": {},
     "output_type": "execute_result"
    }
   ],
   "source": [
    "print(nodule[205].contour_slice_indices)\n",
    "len(nodule[205].contours)"
   ]
  },
  {
   "cell_type": "code",
   "execution_count": null,
   "metadata": {},
   "outputs": [],
   "source": []
  }
 ],
 "metadata": {
  "kernelspec": {
   "display_name": "Python 3",
   "language": "python",
   "name": "python3"
  },
  "language_info": {
   "codemirror_mode": {
    "name": "ipython",
    "version": 3
   },
   "file_extension": ".py",
   "mimetype": "text/x-python",
   "name": "python",
   "nbconvert_exporter": "python",
   "pygments_lexer": "ipython3",
   "version": "3.6.8"
  }
 },
 "nbformat": 4,
 "nbformat_minor": 2
}
